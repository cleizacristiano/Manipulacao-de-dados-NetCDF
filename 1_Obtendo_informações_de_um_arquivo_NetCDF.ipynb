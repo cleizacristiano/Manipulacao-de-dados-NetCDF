{
 "cells": [
  {
   "cell_type": "markdown",
   "id": "4b1c7117",
   "metadata": {},
   "source": [
    "# OBTENDO INFORMAÇÕES DE UM ARQUIVO NetCDF"
   ]
  },
  {
   "cell_type": "markdown",
   "id": "b81b0fcf",
   "metadata": {},
   "source": [
    "Nesse script pode-se extrair informações gerais de um arquivo de dados do tipo NetCDF.\n",
    "\n",
    "Os dados aqui utilizados são do ERA5, o conjunto de dados da 5ª geração de reanálise climática do European Center for Medium-Range Weather Forecasts (ECMWF), possui uma resolução espacial de aproximadamente 30 km, resolução temporal por hora e com 137 níveis verticais. Esses dados foram obtidos por meio do website do Climate Data Store (CDS)."
   ]
  },
  {
   "cell_type": "code",
   "execution_count": null,
   "id": "960669ca",
   "metadata": {},
   "outputs": [],
   "source": [
    "# Carregando a biblioteca do NetCDF\n",
    "import netCDF4"
   ]
  },
  {
   "cell_type": "code",
   "execution_count": null,
   "id": "d4149956",
   "metadata": {},
   "outputs": [],
   "source": [
    "# Abrindo o arquivo NetCDF\n",
    "# Adicione o caminho que está localizado seu arquivo .nc (NetCDF)\n",
    "nc_file = netCDF4.Dataset('C:/Winpython/caminhoDoAquivo/TP.nc')"
   ]
  },
  {
   "cell_type": "code",
   "execution_count": null,
   "id": "c02d852e",
   "metadata": {},
   "outputs": [],
   "source": [
    "# Obtendo informações gerais sobre o arquivo\n",
    "print(nc_file)"
   ]
  },
  {
   "cell_type": "code",
   "execution_count": null,
   "id": "808b6d23",
   "metadata": {},
   "outputs": [],
   "source": [
    "# Obtendo informações sobre as dimensões\n",
    "print(\"Dimensões:\")\n",
    "for dim_name, dim in nc_file.dimensions.items():\n",
    "    print(dim_name, dim.size)"
   ]
  },
  {
   "cell_type": "code",
   "execution_count": null,
   "id": "6e564b4b",
   "metadata": {},
   "outputs": [],
   "source": [
    "# Obtendo informações sobre as variáveis\n",
    "print(\"Variáveis:\")\n",
    "for var_name, var in nc_file.variables.items():\n",
    "    print(var_name, var.shape, var.units)"
   ]
  },
  {
   "cell_type": "code",
   "execution_count": null,
   "id": "35cb4bca",
   "metadata": {},
   "outputs": [],
   "source": [
    "# Fechando o arquivo NetCDF\n",
    "nc_file.close()"
   ]
  },
  {
   "cell_type": "code",
   "execution_count": null,
   "id": "355246bc",
   "metadata": {},
   "outputs": [],
   "source": []
  }
 ],
 "metadata": {
  "kernelspec": {
   "display_name": "Python 3 (ipykernel)",
   "language": "python",
   "name": "python3"
  },
  "language_info": {
   "codemirror_mode": {
    "name": "ipython",
    "version": 3
   },
   "file_extension": ".py",
   "mimetype": "text/x-python",
   "name": "python",
   "nbconvert_exporter": "python",
   "pygments_lexer": "ipython3",
   "version": "3.9.10"
  }
 },
 "nbformat": 4,
 "nbformat_minor": 5
}
