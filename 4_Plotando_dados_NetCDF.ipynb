{
 "cells": [
  {
   "cell_type": "markdown",
   "id": "024dac3e",
   "metadata": {},
   "source": [
    "# PLOTANDO DADOS NetCDF"
   ]
  },
  {
   "cell_type": "markdown",
   "id": "2b6a5854",
   "metadata": {},
   "source": [
    "Nesse script pode-se plotar dados do tipo NetCDF, para esse caso específico, dados de Temperatura a 2 Metros.\n",
    "\n",
    "Os dados aqui utilizados são do ERA5, o conjunto de dados da 5ª geração de reanálise climática do European Center for Medium-Range Weather Forecasts (ECMWF), onde possui uma resolução espacial de aproximadamente 30 km, resolução temporal por hora e com 137 níveis verticais. Esses dados foram obtidos por meio do website do Climate Data Store (CDS)."
   ]
  },
  {
   "cell_type": "code",
   "execution_count": null,
   "id": "01274be9",
   "metadata": {},
   "outputs": [],
   "source": [
    "import xarray as xr\n",
    "import matplotlib.pyplot as plt\n",
    "import geopandas as gpd\n",
    "import cartopy.crs as ccrs\n",
    "import cartopy.feature as cfeature\n",
    "\n",
    "# Carregando os dados do arquivo NetCDF\n",
    "arquivo_nc = 'C:/Winpython/WPy64-39100/notebooks/Tese_PPGCC/Script_PPGMET/DADOS_BRUTO_ERA5/T2M.nc'\n",
    "dados = xr.open_dataset(arquivo_nc)\n",
    "\n",
    "# Transformar a unidade de medida dividindo por 3600 (de J/m2 para Wh/m2)\n",
    "#dados_transformados = dados / 3600.0\n",
    "\n",
    "# Transformar a unidade de medida dividindo por 3600 (de K para C)\n",
    "dados_transformados = dados - 273.15\n",
    "\n",
    "# Calculando a média dos dados ao longo da dimensão desejada (pode ser 'time', por exemplo)\n",
    "dados_media = dados_transformados.mean(dim='time')  # Substitua 'tempo' pelo nome da dimensão de tempo em seu arquivo .nc\n",
    "\n",
    "# Carregando o shapefile das delimitações estaduais\n",
    "shapefile_estados = 'C:/Winpython/WPy64-39100/notebooks/Dissertacao/defesa/RESULTADOS_1/estados_2010/estados_2010.shp'\n",
    "estados_shp = gpd.read_file(shapefile_estados)\n",
    "\n",
    "# Plot dos dados médios transformados\n",
    "plt.figure(figsize=(12, 8))\n",
    "ax = plt.axes(projection=ccrs.PlateCarree())\n",
    "\n",
    "# Adicionando limites dos estados brasileiros\n",
    "ax.add_feature(cfeature.BORDERS, linestyle=':', linewidth=1)\n",
    "\n",
    "# Plot dos estados do Brasil\n",
    "estados_shp.boundary.plot(ax=ax, linewidth=1, color='black')\n",
    "\n",
    "# Plot dos dados médios .nc (substitua 'variavel' pelo nome da variável do arquivo .nc que deseja plotar)\n",
    "dados_plot = dados_media['t2m'].plot.contourf(ax=ax, transform=ccrs.PlateCarree(), cmap='Oranges', add_colorbar=True)\n",
    "\n",
    "# Personalização dos eixos e título\n",
    "ax.coastlines(resolution='10m', linewidth=1)\n",
    "ax.set_extent([-50, -34, -20, 0])  # Delimitando a área de visualização (longitudes e latitudes)\n",
    "\n",
    "# Remover rótulos do eixo x de cima e do eixo y da direita\n",
    "ax.xaxis.set_tick_params(top=False)\n",
    "ax.yaxis.set_tick_params(right=False)\n",
    "\n",
    "# Especificar manualmente os rótulos dos eixos x e y\n",
    "ax.set_xticks([-50, -45, -40, -35])\n",
    "ax.set_yticks([-20, -15, -10, -5, 0])\n",
    "\n",
    "# Etiquetas dos eixos x e y à esquerda e embaixo, respectivamente\n",
    "ax.set_xlabel('Longitude', fontsize=14)\n",
    "ax.set_ylabel('Latitude', fontsize=14)\n",
    "\n",
    "# Criar uma nova legenda e definir o rótulo para ela\n",
    "cbar = plt.colorbar(dados_plot)\n",
    "cbar.set_label('C°', fontsize=14)\n",
    "\n",
    "plt.title('Temperatura a 2 metros - T2M (C°)', fontsize=18)\n",
    "\n",
    "plt.show()"
   ]
  }
 ],
 "metadata": {
  "kernelspec": {
   "display_name": "Python 3 (ipykernel)",
   "language": "python",
   "name": "python3"
  },
  "language_info": {
   "codemirror_mode": {
    "name": "ipython",
    "version": 3
   },
   "file_extension": ".py",
   "mimetype": "text/x-python",
   "name": "python",
   "nbconvert_exporter": "python",
   "pygments_lexer": "ipython3",
   "version": "3.9.10"
  }
 },
 "nbformat": 4,
 "nbformat_minor": 5
}
