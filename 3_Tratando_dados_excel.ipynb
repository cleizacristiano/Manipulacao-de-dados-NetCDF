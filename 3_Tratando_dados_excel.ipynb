{
 "cells": [
  {
   "cell_type": "markdown",
   "id": "0e1df534",
   "metadata": {},
   "source": [
    "# TRATANDO OS DADOS"
   ]
  },
  {
   "cell_type": "markdown",
   "id": "c1896ca9",
   "metadata": {},
   "source": [
    "Nesse script pode ser observado formas de mudança de unidade de medida, remoção de valores negativos, renomeia colunas, edita quantidade de casas decimais e exclui colunas, de dados em um arquivo no formato .xlsx.\n",
    "\n",
    "O presente arquivo possui dados do Operador Nacional do Sistema Elétrico e do ERA5 (obtidos por meio do website do Climate Data Store).\n"
   ]
  },
  {
   "cell_type": "code",
   "execution_count": 1,
   "id": "2016b7b1",
   "metadata": {},
   "outputs": [],
   "source": [
    "# Carregando biblioteca necessária\n",
    "import pandas as pd"
   ]
  },
  {
   "cell_type": "code",
   "execution_count": 2,
   "id": "91d946d1",
   "metadata": {},
   "outputs": [
    {
     "name": "stdout",
     "output_type": "stream",
     "text": [
      "      id_subsistema nom_subsistema id_estado nom_estado  \\\n",
      "0                NE       Nordeste        BA      BAHIA   \n",
      "1                NE       Nordeste        BA      BAHIA   \n",
      "2                NE       Nordeste        BA      BAHIA   \n",
      "3                NE       Nordeste        BA      BAHIA   \n",
      "4                NE       Nordeste        BA      BAHIA   \n",
      "...             ...            ...       ...        ...   \n",
      "30149            NE       Nordeste        BA      BAHIA   \n",
      "30150            NE       Nordeste        BA      BAHIA   \n",
      "30151            NE       Nordeste        BA      BAHIA   \n",
      "30152            NE       Nordeste        BA      BAHIA   \n",
      "30153            NE       Nordeste        BA      BAHIA   \n",
      "\n",
      "               nom_pontoconexao nom_localizacao  val_latitudesecoletora  \\\n",
      "0      B.JESUS LAPA - 69 kV (A)        Interior              -13.299456   \n",
      "1      B.JESUS LAPA - 69 kV (A)        Interior              -13.299456   \n",
      "2      B.JESUS LAPA - 69 kV (A)        Interior              -13.299456   \n",
      "3      B.JESUS LAPA - 69 kV (A)        Interior              -13.299456   \n",
      "4      B.JESUS LAPA - 69 kV (A)        Interior              -13.299456   \n",
      "...                         ...             ...                     ...   \n",
      "30149  B.JESUS LAPA - 69 kV (A)        Interior              -13.299456   \n",
      "30150  B.JESUS LAPA - 69 kV (A)        Interior              -13.299456   \n",
      "30151  B.JESUS LAPA - 69 kV (A)        Interior              -13.299456   \n",
      "30152  B.JESUS LAPA - 69 kV (A)        Interior              -13.299456   \n",
      "30153  B.JESUS LAPA - 69 kV (A)        Interior              -13.299456   \n",
      "\n",
      "       val_longitudesecoletora  val_latitudepontoconexao  \\\n",
      "0                    -43.33305                -13.308900   \n",
      "1                    -43.33305                -13.308900   \n",
      "2                    -43.33305                -13.308900   \n",
      "3                    -43.33305                -13.308900   \n",
      "4                    -43.33305                -13.308900   \n",
      "...                        ...                       ...   \n",
      "30149                -43.33305                -13.305951   \n",
      "30150                -43.33305                -13.305951   \n",
      "30151                -43.33305                -13.305951   \n",
      "30152                -43.33305                -13.305951   \n",
      "30153                -43.33305                -13.305951   \n",
      "\n",
      "       val_longitudepontoconexao  ...                DATA  \\\n",
      "0                     -43.346111  ... 2017-05-18 00:00:00   \n",
      "1                     -43.346111  ... 2017-05-18 01:00:00   \n",
      "2                     -43.346111  ... 2017-05-18 02:00:00   \n",
      "3                     -43.346111  ... 2017-05-18 03:00:00   \n",
      "4                     -43.346111  ... 2017-05-18 04:00:00   \n",
      "...                          ...  ...                 ...   \n",
      "30149                 -43.352308  ... 2020-11-15 18:00:00   \n",
      "30150                 -43.352308  ... 2020-11-15 19:00:00   \n",
      "30151                 -43.352308  ... 2020-11-15 20:00:00   \n",
      "30152                 -43.352308  ... 2020-11-15 21:00:00   \n",
      "30153                 -43.352308  ... 2020-11-15 22:00:00   \n",
      "\n",
      "      val_geracaoprogramada val_geracaoverificada val_capacidadeinstalada  \\\n",
      "0                       NaN                   0.0                      60   \n",
      "1                       NaN                   0.0                      60   \n",
      "2                       NaN                   0.0                      60   \n",
      "3                       NaN                   0.0                      60   \n",
      "4                       NaN                   0.0                      60   \n",
      "...                     ...                   ...                     ...   \n",
      "30149                   0.0                   0.0                      60   \n",
      "30150                   0.0                   0.0                      60   \n",
      "30151                   0.0                   0.0                      60   \n",
      "30152                   0.0                   0.0                      60   \n",
      "30153                   0.0                   0.0                      60   \n",
      "\n",
      "       val_fatorcapacidade   TCC  TP (m)    T2M (°K)  GHI (J/m2)  SSRD (J/m2)  \n",
      "0                      0.0  0.09     0.0  300.808411         0.0       -1.875  \n",
      "1                      0.0  0.42     0.0  301.145325         0.0       -1.875  \n",
      "2                      0.0  0.64     0.0  301.191040         0.0       -1.875  \n",
      "3                      0.0  0.69     0.0  298.915466         0.0       -1.875  \n",
      "4                      0.0  0.91     0.0  298.104553         0.0       -1.875  \n",
      "...                    ...   ...     ...         ...         ...          ...  \n",
      "30149                  0.0  0.00     0.0  295.972778         0.0       -1.875  \n",
      "30150                  0.0  0.00     0.0  295.244110         0.0       -1.875  \n",
      "30151                  0.0  0.00     0.0  294.760345         0.0       -1.875  \n",
      "30152                  0.0  0.00     0.0  294.441101         0.0       -1.875  \n",
      "30153                  0.0  0.01     0.0  294.101135         0.0       -1.875  \n",
      "\n",
      "[30154 rows x 23 columns]\n"
     ]
    }
   ],
   "source": [
    "# Abrindo o arquivo Excel\n",
    "# Adicione o caminho que está localizado seu arquivo .xlsx (Excel)\n",
    "xlsx_file = 'C:/Winpython/CaminhoDoDado/ConjBomJesus_2017_2020.xlsx'\n",
    "# Chamando o arquivo de df\n",
    "df = pd.read_excel(xlsx_file)\n",
    "\n",
    "# Observando os dados carregados\n",
    "print(df)"
   ]
  },
  {
   "cell_type": "markdown",
   "id": "69836423",
   "metadata": {},
   "source": [
    "## T2M(°K) PARA T2M(°C)"
   ]
  },
  {
   "cell_type": "code",
   "execution_count": 3,
   "id": "fde5d1f7",
   "metadata": {},
   "outputs": [],
   "source": [
    "# Transformando a temperatura de Kelvin para Celsius\n",
    "# Lembre-se de colocar o nome da variável do mesmo jeito que está na coluna dos seus dados no arquivo .xlsx\n",
    "df['T2M (°C)'] = df['T2M (°K)'] - 273.15\n",
    "# Cria uma nova coluna da transformação"
   ]
  },
  {
   "cell_type": "markdown",
   "id": "e052efb0",
   "metadata": {},
   "source": [
    "## GHI(J/m2) PARA GHI(Wh/m2) "
   ]
  },
  {
   "cell_type": "code",
   "execution_count": 4,
   "id": "9e83852e",
   "metadata": {},
   "outputs": [],
   "source": [
    "# Transformando J/m2 para Wh/m2\n",
    "# Lembre-se de colocar o nome da variável do mesmo jeito que está na coluna dos seus dados no arquivo .xlsx\n",
    "df['GHI (Wh/m2)'] = df['GHI (J/m2)'] / 3600\n",
    "# Cria uma nova coluna da transformação"
   ]
  },
  {
   "cell_type": "markdown",
   "id": "b69ded5a",
   "metadata": {},
   "source": [
    "## SSRD(J/m2) PARA SSRD(Wh/m2)"
   ]
  },
  {
   "cell_type": "code",
   "execution_count": 5,
   "id": "75488ba7",
   "metadata": {},
   "outputs": [],
   "source": [
    "df['SSRD (Wh/m2)'] = df['SSRD (J/m2)'] / 3600\n",
    "# Cria uma nova coluna da transformação"
   ]
  },
  {
   "cell_type": "markdown",
   "id": "c6f5daa9",
   "metadata": {},
   "source": [
    "## TP(m) PARA TP(mm)"
   ]
  },
  {
   "cell_type": "code",
   "execution_count": 6,
   "id": "725148dc",
   "metadata": {},
   "outputs": [],
   "source": [
    "df['TP (mm)'] = df['TP (m)'] * 1000\n",
    "# Cria uma nova coluna da transformação"
   ]
  },
  {
   "cell_type": "markdown",
   "id": "83f7392b",
   "metadata": {},
   "source": [
    "## TIRANDO VALORES NEGATIVOS "
   ]
  },
  {
   "cell_type": "markdown",
   "id": "2a758b35",
   "metadata": {},
   "source": [
    "### SSRD(J/m2)"
   ]
  },
  {
   "cell_type": "code",
   "execution_count": 7,
   "id": "30981c13",
   "metadata": {},
   "outputs": [],
   "source": [
    "# Substitua \"Nome_da_Coluna\" pelo nome da coluna em que deseja fazer a substituição\n",
    "df['SSRD (Wh/m2)'] = df['SSRD (Wh/m2)'].apply(lambda x: max(x, 0))\n",
    "# Cria uma nova coluna da transformação"
   ]
  },
  {
   "cell_type": "markdown",
   "id": "604a7bfe",
   "metadata": {},
   "source": [
    "## MUDANDO NOMES DAS COLUNAS"
   ]
  },
  {
   "cell_type": "code",
   "execution_count": 8,
   "id": "1d0539af",
   "metadata": {},
   "outputs": [],
   "source": [
    "# A esquerda deve ser adicionado os nomes que estão na coluna dos dados\n",
    "# A direita adicione o nome no qual você quer renomear suas colunas\n",
    "# Aqui pode ser feitas quantas mundanças achar necessário\n",
    "mapeamento_nomes = {\n",
    "    'TP (mm)': 'TP (mm)',\n",
    "    'T2M (°C)': 'T2M (°C)',\n",
    "    'GHI (Wh/m2)': 'GHI (Wh/m²)',\n",
    "    'SSRD (Wh/m2)': 'SSRD (Wh/m²)'\n",
    "}\n",
    "\n",
    "# Renomeie as colunas usando o método 'rename' do DataFrame\n",
    "df.rename(columns=mapeamento_nomes, inplace=True)"
   ]
  },
  {
   "cell_type": "markdown",
   "id": "28dedb58",
   "metadata": {},
   "source": [
    "## DEIXANDO COM DUAS DECIMAIS"
   ]
  },
  {
   "cell_type": "code",
   "execution_count": 9,
   "id": "be8cc27d",
   "metadata": {},
   "outputs": [],
   "source": [
    "# Substitua \"nome_da_coluna1\" e \"nome_da_coluna2\" pelos nomes das colunas que você deseja formatar\n",
    "df['SSRD (Wh/m²)'] = df['SSRD (Wh/m²)'].apply(lambda x: round(x, 2))\n",
    "df['TCC'] = df['TCC'].apply(lambda x: round(x, 2))\n",
    "df['TP (mm)'] = df['TP (mm)'].apply(lambda x: round(x, 2))\n",
    "df['T2M (°C)'] = df['T2M (°C)'].apply(lambda x: round(x, 2))\n",
    "df['GHI (Wh/m²)'] = df['GHI (Wh/m²)'].apply(lambda x: round(x, 2))"
   ]
  },
  {
   "cell_type": "markdown",
   "id": "231f47f9",
   "metadata": {},
   "source": [
    "## EXCLUINDO COLUNAS"
   ]
  },
  {
   "cell_type": "code",
   "execution_count": 10,
   "id": "f78059bf",
   "metadata": {},
   "outputs": [
    {
     "name": "stdout",
     "output_type": "stream",
     "text": [
      "      id_subsistema nom_subsistema id_estado nom_estado  \\\n",
      "0                NE       Nordeste        BA      BAHIA   \n",
      "1                NE       Nordeste        BA      BAHIA   \n",
      "2                NE       Nordeste        BA      BAHIA   \n",
      "3                NE       Nordeste        BA      BAHIA   \n",
      "4                NE       Nordeste        BA      BAHIA   \n",
      "...             ...            ...       ...        ...   \n",
      "30149            NE       Nordeste        BA      BAHIA   \n",
      "30150            NE       Nordeste        BA      BAHIA   \n",
      "30151            NE       Nordeste        BA      BAHIA   \n",
      "30152            NE       Nordeste        BA      BAHIA   \n",
      "30153            NE       Nordeste        BA      BAHIA   \n",
      "\n",
      "               nom_pontoconexao nom_localizacao  val_latitudesecoletora  \\\n",
      "0      B.JESUS LAPA - 69 kV (A)        Interior              -13.299456   \n",
      "1      B.JESUS LAPA - 69 kV (A)        Interior              -13.299456   \n",
      "2      B.JESUS LAPA - 69 kV (A)        Interior              -13.299456   \n",
      "3      B.JESUS LAPA - 69 kV (A)        Interior              -13.299456   \n",
      "4      B.JESUS LAPA - 69 kV (A)        Interior              -13.299456   \n",
      "...                         ...             ...                     ...   \n",
      "30149  B.JESUS LAPA - 69 kV (A)        Interior              -13.299456   \n",
      "30150  B.JESUS LAPA - 69 kV (A)        Interior              -13.299456   \n",
      "30151  B.JESUS LAPA - 69 kV (A)        Interior              -13.299456   \n",
      "30152  B.JESUS LAPA - 69 kV (A)        Interior              -13.299456   \n",
      "30153  B.JESUS LAPA - 69 kV (A)        Interior              -13.299456   \n",
      "\n",
      "       val_longitudesecoletora  val_latitudepontoconexao  \\\n",
      "0                    -43.33305                -13.308900   \n",
      "1                    -43.33305                -13.308900   \n",
      "2                    -43.33305                -13.308900   \n",
      "3                    -43.33305                -13.308900   \n",
      "4                    -43.33305                -13.308900   \n",
      "...                        ...                       ...   \n",
      "30149                -43.33305                -13.305951   \n",
      "30150                -43.33305                -13.305951   \n",
      "30151                -43.33305                -13.305951   \n",
      "30152                -43.33305                -13.305951   \n",
      "30153                -43.33305                -13.305951   \n",
      "\n",
      "       val_longitudepontoconexao  ... val_fatorcapacidade   TCC TP (m)  \\\n",
      "0                     -43.346111  ...                 0.0  0.09    0.0   \n",
      "1                     -43.346111  ...                 0.0  0.42    0.0   \n",
      "2                     -43.346111  ...                 0.0  0.64    0.0   \n",
      "3                     -43.346111  ...                 0.0  0.69    0.0   \n",
      "4                     -43.346111  ...                 0.0  0.91    0.0   \n",
      "...                          ...  ...                 ...   ...    ...   \n",
      "30149                 -43.352308  ...                 0.0  0.00    0.0   \n",
      "30150                 -43.352308  ...                 0.0  0.00    0.0   \n",
      "30151                 -43.352308  ...                 0.0  0.00    0.0   \n",
      "30152                 -43.352308  ...                 0.0  0.00    0.0   \n",
      "30153                 -43.352308  ...                 0.0  0.01    0.0   \n",
      "\n",
      "         T2M (°K)  GHI (J/m2)  SSRD (J/m2)  T2M (°C)  GHI (Wh/m²)  \\\n",
      "0      300.808411         0.0       -1.875     27.66          0.0   \n",
      "1      301.145325         0.0       -1.875     28.00          0.0   \n",
      "2      301.191040         0.0       -1.875     28.04          0.0   \n",
      "3      298.915466         0.0       -1.875     25.77          0.0   \n",
      "4      298.104553         0.0       -1.875     24.95          0.0   \n",
      "...           ...         ...          ...       ...          ...   \n",
      "30149  295.972778         0.0       -1.875     22.82          0.0   \n",
      "30150  295.244110         0.0       -1.875     22.09          0.0   \n",
      "30151  294.760345         0.0       -1.875     21.61          0.0   \n",
      "30152  294.441101         0.0       -1.875     21.29          0.0   \n",
      "30153  294.101135         0.0       -1.875     20.95          0.0   \n",
      "\n",
      "       SSRD (Wh/m²)  TP (mm)  \n",
      "0               0.0      0.0  \n",
      "1               0.0      0.0  \n",
      "2               0.0      0.0  \n",
      "3               0.0      0.0  \n",
      "4               0.0      0.0  \n",
      "...             ...      ...  \n",
      "30149           0.0      0.0  \n",
      "30150           0.0      0.0  \n",
      "30151           0.0      0.0  \n",
      "30152           0.0      0.0  \n",
      "30153           0.0      0.0  \n",
      "\n",
      "[30154 rows x 27 columns]\n"
     ]
    }
   ],
   "source": [
    "# Observando colunas disponíveis\n",
    "print(df)"
   ]
  },
  {
   "cell_type": "code",
   "execution_count": 11,
   "id": "e9bace89",
   "metadata": {},
   "outputs": [],
   "source": [
    "# Removendo colunas\n",
    "# Aqui pode ser removido quantas colunas achar necessário\n",
    "colunas_para_remover = ['id_subsistema', 'nom_subsistema', 'id_estado', 'nom_estado', \n",
    "                        'nom_pontoconexao', 'nom_localizacao', 'nom_modalidadeoperacao', \n",
    "                        'nom_tipousina', 'nom_usina_conjunto', 'val_geracaoprogramada',]\n",
    "df = df.drop(colunas_para_remover, axis=1)"
   ]
  },
  {
   "cell_type": "code",
   "execution_count": 13,
   "id": "08a3cb18",
   "metadata": {},
   "outputs": [
    {
     "name": "stdout",
     "output_type": "stream",
     "text": [
      "       val_latitudesecoletora  val_longitudesecoletora  \\\n",
      "0                  -13.299456                -43.33305   \n",
      "1                  -13.299456                -43.33305   \n",
      "2                  -13.299456                -43.33305   \n",
      "3                  -13.299456                -43.33305   \n",
      "4                  -13.299456                -43.33305   \n",
      "...                       ...                      ...   \n",
      "30149              -13.299456                -43.33305   \n",
      "30150              -13.299456                -43.33305   \n",
      "30151              -13.299456                -43.33305   \n",
      "30152              -13.299456                -43.33305   \n",
      "30153              -13.299456                -43.33305   \n",
      "\n",
      "       val_latitudepontoconexao  val_longitudepontoconexao  \\\n",
      "0                    -13.308900                 -43.346111   \n",
      "1                    -13.308900                 -43.346111   \n",
      "2                    -13.308900                 -43.346111   \n",
      "3                    -13.308900                 -43.346111   \n",
      "4                    -13.308900                 -43.346111   \n",
      "...                         ...                        ...   \n",
      "30149                -13.305951                 -43.352308   \n",
      "30150                -13.305951                 -43.352308   \n",
      "30151                -13.305951                 -43.352308   \n",
      "30152                -13.305951                 -43.352308   \n",
      "30153                -13.305951                 -43.352308   \n",
      "\n",
      "                     DATA  val_geracaoverificada  val_capacidadeinstalada  \\\n",
      "0     2017-05-18 00:00:00                    0.0                       60   \n",
      "1     2017-05-18 01:00:00                    0.0                       60   \n",
      "2     2017-05-18 02:00:00                    0.0                       60   \n",
      "3     2017-05-18 03:00:00                    0.0                       60   \n",
      "4     2017-05-18 04:00:00                    0.0                       60   \n",
      "...                   ...                    ...                      ...   \n",
      "30149 2020-11-15 18:00:00                    0.0                       60   \n",
      "30150 2020-11-15 19:00:00                    0.0                       60   \n",
      "30151 2020-11-15 20:00:00                    0.0                       60   \n",
      "30152 2020-11-15 21:00:00                    0.0                       60   \n",
      "30153 2020-11-15 22:00:00                    0.0                       60   \n",
      "\n",
      "       val_fatorcapacidade   TCC  TP (m)    T2M (°K)  GHI (J/m2)  SSRD (J/m2)  \\\n",
      "0                      0.0  0.09     0.0  300.808411         0.0       -1.875   \n",
      "1                      0.0  0.42     0.0  301.145325         0.0       -1.875   \n",
      "2                      0.0  0.64     0.0  301.191040         0.0       -1.875   \n",
      "3                      0.0  0.69     0.0  298.915466         0.0       -1.875   \n",
      "4                      0.0  0.91     0.0  298.104553         0.0       -1.875   \n",
      "...                    ...   ...     ...         ...         ...          ...   \n",
      "30149                  0.0  0.00     0.0  295.972778         0.0       -1.875   \n",
      "30150                  0.0  0.00     0.0  295.244110         0.0       -1.875   \n",
      "30151                  0.0  0.00     0.0  294.760345         0.0       -1.875   \n",
      "30152                  0.0  0.00     0.0  294.441101         0.0       -1.875   \n",
      "30153                  0.0  0.01     0.0  294.101135         0.0       -1.875   \n",
      "\n",
      "       T2M (°C)  GHI (Wh/m²)  SSRD (Wh/m²)  TP (mm)  \n",
      "0         27.66          0.0           0.0      0.0  \n",
      "1         28.00          0.0           0.0      0.0  \n",
      "2         28.04          0.0           0.0      0.0  \n",
      "3         25.77          0.0           0.0      0.0  \n",
      "4         24.95          0.0           0.0      0.0  \n",
      "...         ...          ...           ...      ...  \n",
      "30149     22.82          0.0           0.0      0.0  \n",
      "30150     22.09          0.0           0.0      0.0  \n",
      "30151     21.61          0.0           0.0      0.0  \n",
      "30152     21.29          0.0           0.0      0.0  \n",
      "30153     20.95          0.0           0.0      0.0  \n",
      "\n",
      "[30154 rows x 17 columns]\n"
     ]
    }
   ],
   "source": [
    "print(df)"
   ]
  },
  {
   "cell_type": "code",
   "execution_count": null,
   "id": "6b6680bf",
   "metadata": {},
   "outputs": [],
   "source": []
  }
 ],
 "metadata": {
  "kernelspec": {
   "display_name": "Python 3 (ipykernel)",
   "language": "python",
   "name": "python3"
  },
  "language_info": {
   "codemirror_mode": {
    "name": "ipython",
    "version": 3
   },
   "file_extension": ".py",
   "mimetype": "text/x-python",
   "name": "python",
   "nbconvert_exporter": "python",
   "pygments_lexer": "ipython3",
   "version": "3.9.10"
  }
 },
 "nbformat": 4,
 "nbformat_minor": 5
}
