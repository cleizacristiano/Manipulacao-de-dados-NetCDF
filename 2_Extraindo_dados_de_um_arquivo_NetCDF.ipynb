{
 "cells": [
  {
   "cell_type": "markdown",
   "id": "fc8b171d",
   "metadata": {},
   "source": [
    "# EXTRAINDO DADOS DE UM ARQUIVO NetCDF"
   ]
  },
  {
   "cell_type": "markdown",
   "id": "0e309c75",
   "metadata": {},
   "source": [
    "Nesse script pode-se extrair, a partir de dados de arquivo NetCDF, uma planinha .xlsx através da setagem de ponto de latitude e longitude desejado. \n",
    "\n",
    "Os dados aqui utilizados são do ERA5, o conjunto de dados da 5ª geração de reanálise climática do European Center for Medium-Range Weather Forecasts (ECMWF), possui uma resolução espacial de aproximadamente 30 km, resolução temporal por hora e com 137 níveis verticais. Esses dados foram obtidos por meio do website do Climate Data Store (CDS).\n",
    "\n",
    "Especificamente para esse caso, estou usando dados de temperatura a 2 metros."
   ]
  },
  {
   "cell_type": "markdown",
   "id": "840b2a31",
   "metadata": {},
   "source": [
    "### EXTRAINDO DADOS PONTUAIS A PARTIR DE UMA LATITUDE E LONGITUDE"
   ]
  },
  {
   "cell_type": "code",
   "execution_count": 1,
   "id": "0cd584b1",
   "metadata": {},
   "outputs": [],
   "source": [
    "# Carregando bibliotecas necessárias\n",
    "import pandas as pd\n",
    "import xarray as xr"
   ]
  },
  {
   "cell_type": "code",
   "execution_count": 2,
   "id": "8ab60bc9",
   "metadata": {},
   "outputs": [],
   "source": [
    "# Carregando dados NetCDF\n",
    "# Adicione o caminho que está localizado seu arquivo .nc (NetCDF)\n",
    "nc_file = 'C:/Winpython/CaminhoDoArquivo/TP.nc'"
   ]
  },
  {
   "cell_type": "code",
   "execution_count": 3,
   "id": "0dfec3db",
   "metadata": {},
   "outputs": [],
   "source": [
    "# Abrindo o arquivo .nc\n",
    "ds = xr.open_dataset(nc_file)"
   ]
  },
  {
   "cell_type": "code",
   "execution_count": 4,
   "id": "fd40a911",
   "metadata": {},
   "outputs": [
    {
     "name": "stdout",
     "output_type": "stream",
     "text": [
      "<xarray.Dataset>\n",
      "Dimensions:    (longitude: 65, latitude: 81, time: 96408)\n",
      "Coordinates:\n",
      "  * longitude  (longitude) float32 -50.0 -49.75 -49.5 ... -34.5 -34.25 -34.0\n",
      "  * latitude   (latitude) float32 0.0 -0.25 -0.5 -0.75 ... -19.5 -19.75 -20.0\n",
      "  * time       (time) datetime64[ns] 2009-01-01 ... 2019-12-31T23:00:00\n",
      "Data variables:\n",
      "    tp         (time, latitude, longitude) float32 ...\n",
      "Attributes:\n",
      "    Conventions:  CF-1.6\n",
      "    history:      2023-06-04 05:41:05 GMT by grib_to_netcdf-2.25.1: /opt/ecmw...\n"
     ]
    }
   ],
   "source": [
    "# Verificando as variáveis disponíveis no arquivo .nc\n",
    "print(ds)"
   ]
  },
  {
   "cell_type": "code",
   "execution_count": 5,
   "id": "2d2c7c1d",
   "metadata": {},
   "outputs": [],
   "source": [
    "# Setando os pontos de latitude e lontitude desejados\n",
    "latitude_desejada = -13.299456\n",
    "longitude_desejada = -43.33305"
   ]
  },
  {
   "cell_type": "code",
   "execution_count": 6,
   "id": "84dff9e4",
   "metadata": {},
   "outputs": [],
   "source": [
    "# Encontre os índices dos pontos mais próximos nas coordenadas desejadas\n",
    "lat_idx = abs(ds['latitude'] - latitude_desejada).argmin().item()\n",
    "lon_idx = abs(ds['longitude'] - longitude_desejada).argmin().item()"
   ]
  },
  {
   "cell_type": "code",
   "execution_count": 7,
   "id": "76467189",
   "metadata": {},
   "outputs": [],
   "source": [
    "# Extraindo os dados na latitude e longitude desejadas\n",
    "# Lembre-se de adicionar o nome original da variável que deseja extrair do .nc\n",
    "# O nome original da variável pode ser observada anteriormente\n",
    "dados_na_lat_lon = ds['tp'][:, lat_idx, lon_idx]"
   ]
  },
  {
   "cell_type": "code",
   "execution_count": 8,
   "id": "911b4c98",
   "metadata": {},
   "outputs": [],
   "source": [
    "# Criando um DataFrame a partir dos dados extraídos\n",
    "df = pd.DataFrame({'Data': dados_na_lat_lon.time, 'Valor': dados_na_lat_lon.values})"
   ]
  },
  {
   "cell_type": "code",
   "execution_count": 9,
   "id": "7148735c",
   "metadata": {},
   "outputs": [],
   "source": [
    "# Salvando o DataFrame em um arquivo .xlsx\n",
    "# Adicione o caminho de onde quer salvar seu conjunto de dados .xlsx\n",
    "excel_file = 'C:/Winpython/CaminhoDoArquivo/TP.xlsx'\n",
    "df.to_excel(excel_file, index=False)"
   ]
  },
  {
   "cell_type": "code",
   "execution_count": null,
   "id": "adffad9f",
   "metadata": {},
   "outputs": [],
   "source": []
  },
  {
   "cell_type": "code",
   "execution_count": null,
   "id": "2a3f32ba",
   "metadata": {},
   "outputs": [],
   "source": []
  },
  {
   "cell_type": "code",
   "execution_count": null,
   "id": "2f55a2b2",
   "metadata": {},
   "outputs": [],
   "source": []
  }
 ],
 "metadata": {
  "kernelspec": {
   "display_name": "Python 3 (ipykernel)",
   "language": "python",
   "name": "python3"
  },
  "language_info": {
   "codemirror_mode": {
    "name": "ipython",
    "version": 3
   },
   "file_extension": ".py",
   "mimetype": "text/x-python",
   "name": "python",
   "nbconvert_exporter": "python",
   "pygments_lexer": "ipython3",
   "version": "3.9.10"
  }
 },
 "nbformat": 4,
 "nbformat_minor": 5
}
